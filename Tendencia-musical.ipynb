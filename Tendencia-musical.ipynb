{
 "cells": [
  {
   "cell_type": "markdown",
   "metadata": {
    "id": "E0vqbgi9ay0H"
   },
   "source": [
    "# Déjame escuchar la música"
   ]
  },
  {
   "cell_type": "markdown",
   "metadata": {
    "id": "fhq_eyov_Zcs"
   },
   "source": [
    "# Contenido <a id='back'></a>\n",
    "\n",
    "* [Introducción](#intro)\n",
    "* [Etapa 1. Descripción de los datos](#data_review)\n",
    "    * [Conclusiones](#data_review_conclusions)\n",
    "* [Etapa 2. Preprocesamiento de datos](#data_preprocessing)\n",
    "    * [2.1 Estilo del encabezado](#header_style)\n",
    "    * [2.2 Valores ausentes](#missing_values)\n",
    "    * [2.3 Duplicados](#duplicates)\n",
    "    * [2.4 Conclusiones](#data_preprocessing_conclusions)\n",
    "* [Etapa 3. Prueba de hipótesis](#hypothesis)\n",
    "    * [3.1 Hipótesis 1: actividad de los usuarios y las usuarias en las dos ciudades](#activity)\n",
    "* [Conclusiones](#end)"
   ]
  },
  {
   "cell_type": "markdown",
   "metadata": {
    "id": "VUC88oWjTJw2"
   },
   "source": [
    "## Introducción <a id='intro'></a>\n",
    "Como analista de datos, tu trabajo consiste en analizar datos para extraer información valiosa y tomar decisiones basadas en ellos. Esto implica diferentes etapas, como la descripción general de los datos, el preprocesamiento y la prueba de hipótesis.\n",
    "\n",
    "Siempre que investigamos, necesitamos formular hipótesis que después podamos probar. A veces aceptamos estas hipótesis; otras veces, las rechazamos. Para tomar las decisiones correctas, una empresa debe ser capaz de entender si está haciendo las suposiciones correctas.\n",
    "\n",
    "En este proyecto, compararás las preferencias musicales de las ciudades de Springfield y Shelbyville. Estudiarás datos reales de transmisión de música online para probar la hipótesis a continuación y comparar el comportamiento de los usuarios y las usuarias de estas dos ciudades.\n",
    "\n",
    "### Objetivo:\n",
    "Prueba la hipótesis:\n",
    "1. La actividad de los usuarios y las usuarias difiere según el día de la semana y dependiendo de la ciudad.\n",
    "\n",
    "\n",
    "### Etapas\n",
    "Los datos del comportamiento del usuario se almacenan en el archivo `/datasets/music_project_en.csv`. No hay ninguna información sobre la calidad de los datos, así que necesitarás examinarlos antes de probar la hipótesis.\n",
    "\n",
    "Primero, evaluarás la calidad de los datos y verás si los problemas son significativos. Entonces, durante el preprocesamiento de datos, tomarás en cuenta los problemas más críticos.\n",
    "\n",
    "Tu proyecto consistirá en tres etapas:\n",
    " 1. Descripción de los datos.\n",
    " 2. Preprocesamiento de datos.\n",
    " 3. Prueba de hipótesis.\n",
    "\n",
    "\n",
    "\n",
    "\n",
    "\n",
    "\n"
   ]
  },
  {
   "cell_type": "markdown",
   "metadata": {
    "id": "hDt6pg-Rw-1U"
   },
   "source": [
    "[Volver a Contenidos](#back)"
   ]
  },
  {
   "cell_type": "markdown",
   "metadata": {
    "id": "Ml1hmfXC_Zcs"
   },
   "source": [
    "## Etapa 1. Descripción de los datos <a id='data_review'></a>\n",
    "\n",
    "Abre los datos y examínalos."
   ]
  },
  {
   "cell_type": "markdown",
   "metadata": {
    "id": "57eAOGIz_Zcs"
   },
   "source": [
    "Necesitarás `pandas`, así que impórtalo."
   ]
  },
  {
   "cell_type": "code",
   "execution_count": 1,
   "metadata": {
    "id": "AXN7PHPN_Zcs"
   },
   "outputs": [],
   "source": [
    "# Importar pandas\n",
    "import pandas as pd"
   ]
  },
  {
   "cell_type": "markdown",
   "metadata": {
    "id": "SG23P8tt_Zcs"
   },
   "source": [
    "Lee el archivo `music_project_en.csv` de la carpeta `/datasets/` y guárdalo en la variable `df`:"
   ]
  },
  {
   "cell_type": "code",
   "execution_count": 2,
   "metadata": {
    "id": "fFVu7vqh_Zct"
   },
   "outputs": [],
   "source": [
    "# Leer el archivo y almacenarlo en df\n",
    "df = pd.read_csv('/datasets/music_project_en.csv')"
   ]
  },
  {
   "cell_type": "markdown",
   "metadata": {
    "id": "rDoOMd3uTqnZ"
   },
   "source": [
    "Muestra las 10 primeras filas de la tabla:"
   ]
  },
  {
   "cell_type": "code",
   "execution_count": 3,
   "metadata": {
    "id": "oWTVX3gW_Zct"
   },
   "outputs": [
    {
     "data": {
      "text/html": [
       "<div>\n",
       "<style scoped>\n",
       "    .dataframe tbody tr th:only-of-type {\n",
       "        vertical-align: middle;\n",
       "    }\n",
       "\n",
       "    .dataframe tbody tr th {\n",
       "        vertical-align: top;\n",
       "    }\n",
       "\n",
       "    .dataframe thead th {\n",
       "        text-align: right;\n",
       "    }\n",
       "</style>\n",
       "<table border=\"1\" class=\"dataframe\">\n",
       "  <thead>\n",
       "    <tr style=\"text-align: right;\">\n",
       "      <th></th>\n",
       "      <th>userID</th>\n",
       "      <th>Track</th>\n",
       "      <th>artist</th>\n",
       "      <th>genre</th>\n",
       "      <th>City</th>\n",
       "      <th>time</th>\n",
       "      <th>Day</th>\n",
       "    </tr>\n",
       "  </thead>\n",
       "  <tbody>\n",
       "    <tr>\n",
       "      <th>0</th>\n",
       "      <td>FFB692EC</td>\n",
       "      <td>Kamigata To Boots</td>\n",
       "      <td>The Mass Missile</td>\n",
       "      <td>rock</td>\n",
       "      <td>Shelbyville</td>\n",
       "      <td>20:28:33</td>\n",
       "      <td>Wednesday</td>\n",
       "    </tr>\n",
       "    <tr>\n",
       "      <th>1</th>\n",
       "      <td>55204538</td>\n",
       "      <td>Delayed Because of Accident</td>\n",
       "      <td>Andreas Rönnberg</td>\n",
       "      <td>rock</td>\n",
       "      <td>Springfield</td>\n",
       "      <td>14:07:09</td>\n",
       "      <td>Friday</td>\n",
       "    </tr>\n",
       "    <tr>\n",
       "      <th>2</th>\n",
       "      <td>20EC38</td>\n",
       "      <td>Funiculì funiculà</td>\n",
       "      <td>Mario Lanza</td>\n",
       "      <td>pop</td>\n",
       "      <td>Shelbyville</td>\n",
       "      <td>20:58:07</td>\n",
       "      <td>Wednesday</td>\n",
       "    </tr>\n",
       "    <tr>\n",
       "      <th>3</th>\n",
       "      <td>A3DD03C9</td>\n",
       "      <td>Dragons in the Sunset</td>\n",
       "      <td>Fire + Ice</td>\n",
       "      <td>folk</td>\n",
       "      <td>Shelbyville</td>\n",
       "      <td>08:37:09</td>\n",
       "      <td>Monday</td>\n",
       "    </tr>\n",
       "    <tr>\n",
       "      <th>4</th>\n",
       "      <td>E2DC1FAE</td>\n",
       "      <td>Soul People</td>\n",
       "      <td>Space Echo</td>\n",
       "      <td>dance</td>\n",
       "      <td>Springfield</td>\n",
       "      <td>08:34:34</td>\n",
       "      <td>Monday</td>\n",
       "    </tr>\n",
       "    <tr>\n",
       "      <th>5</th>\n",
       "      <td>842029A1</td>\n",
       "      <td>Chains</td>\n",
       "      <td>Obladaet</td>\n",
       "      <td>rusrap</td>\n",
       "      <td>Shelbyville</td>\n",
       "      <td>13:09:41</td>\n",
       "      <td>Friday</td>\n",
       "    </tr>\n",
       "    <tr>\n",
       "      <th>6</th>\n",
       "      <td>4CB90AA5</td>\n",
       "      <td>True</td>\n",
       "      <td>Roman Messer</td>\n",
       "      <td>dance</td>\n",
       "      <td>Springfield</td>\n",
       "      <td>13:00:07</td>\n",
       "      <td>Wednesday</td>\n",
       "    </tr>\n",
       "    <tr>\n",
       "      <th>7</th>\n",
       "      <td>F03E1C1F</td>\n",
       "      <td>Feeling This Way</td>\n",
       "      <td>Polina Griffith</td>\n",
       "      <td>dance</td>\n",
       "      <td>Springfield</td>\n",
       "      <td>20:47:49</td>\n",
       "      <td>Wednesday</td>\n",
       "    </tr>\n",
       "    <tr>\n",
       "      <th>8</th>\n",
       "      <td>8FA1D3BE</td>\n",
       "      <td>L’estate</td>\n",
       "      <td>Julia Dalia</td>\n",
       "      <td>ruspop</td>\n",
       "      <td>Springfield</td>\n",
       "      <td>09:17:40</td>\n",
       "      <td>Friday</td>\n",
       "    </tr>\n",
       "    <tr>\n",
       "      <th>9</th>\n",
       "      <td>E772D5C0</td>\n",
       "      <td>Pessimist</td>\n",
       "      <td>NaN</td>\n",
       "      <td>dance</td>\n",
       "      <td>Shelbyville</td>\n",
       "      <td>21:20:49</td>\n",
       "      <td>Wednesday</td>\n",
       "    </tr>\n",
       "  </tbody>\n",
       "</table>\n",
       "</div>"
      ],
      "text/plain": [
       "     userID                        Track            artist   genre  \\\n",
       "0  FFB692EC            Kamigata To Boots  The Mass Missile    rock   \n",
       "1  55204538  Delayed Because of Accident  Andreas Rönnberg    rock   \n",
       "2    20EC38            Funiculì funiculà       Mario Lanza     pop   \n",
       "3  A3DD03C9        Dragons in the Sunset        Fire + Ice    folk   \n",
       "4  E2DC1FAE                  Soul People        Space Echo   dance   \n",
       "5  842029A1                       Chains          Obladaet  rusrap   \n",
       "6  4CB90AA5                         True      Roman Messer   dance   \n",
       "7  F03E1C1F             Feeling This Way   Polina Griffith   dance   \n",
       "8  8FA1D3BE                     L’estate       Julia Dalia  ruspop   \n",
       "9  E772D5C0                    Pessimist               NaN   dance   \n",
       "\n",
       "        City        time        Day  \n",
       "0  Shelbyville  20:28:33  Wednesday  \n",
       "1  Springfield  14:07:09     Friday  \n",
       "2  Shelbyville  20:58:07  Wednesday  \n",
       "3  Shelbyville  08:37:09     Monday  \n",
       "4  Springfield  08:34:34     Monday  \n",
       "5  Shelbyville  13:09:41     Friday  \n",
       "6  Springfield  13:00:07  Wednesday  \n",
       "7  Springfield  20:47:49  Wednesday  \n",
       "8  Springfield  09:17:40     Friday  \n",
       "9  Shelbyville  21:20:49  Wednesday  "
      ]
     },
     "execution_count": 3,
     "metadata": {},
     "output_type": "execute_result"
    }
   ],
   "source": [
    "# Obtener las 10 primeras filas de la tabla df\n",
    "df.head(10)"
   ]
  },
  {
   "cell_type": "markdown",
   "metadata": {
    "id": "EO73Kwic_Zct"
   },
   "source": [
    "Obtén la información general sobre la tabla con un comando. Conoces el método que muestra la información general que necesitamos."
   ]
  },
  {
   "cell_type": "code",
   "execution_count": 4,
   "metadata": {
    "id": "DSf2kIb-_Zct"
   },
   "outputs": [
    {
     "name": "stdout",
     "output_type": "stream",
     "text": [
      "<class 'pandas.core.frame.DataFrame'>\n",
      "RangeIndex: 65079 entries, 0 to 65078\n",
      "Data columns (total 7 columns):\n",
      " #   Column    Non-Null Count  Dtype \n",
      "---  ------    --------------  ----- \n",
      " 0     userID  65079 non-null  object\n",
      " 1   Track     63736 non-null  object\n",
      " 2   artist    57512 non-null  object\n",
      " 3   genre     63881 non-null  object\n",
      " 4     City    65079 non-null  object\n",
      " 5   time      65079 non-null  object\n",
      " 6   Day       65079 non-null  object\n",
      "dtypes: object(7)\n",
      "memory usage: 3.5+ MB\n"
     ]
    }
   ],
   "source": [
    "# Obtener la información general sobre nuestros datos\n",
    "df.info()"
   ]
  },
  {
   "cell_type": "markdown",
   "metadata": {
    "id": "TaQ2Iwbr_Zct"
   },
   "source": [
    "Estas son nuestras observaciones sobre la tabla. Contiene siete columnas. Almacenan los mismos tipos de datos: `object`.\n",
    "\n",
    "Según la documentación:\n",
    "- `' userID'`: identificador del usuario o la usuaria;\n",
    "- `'Track'`: título de la canción;\n",
    "- `'artist'`: nombre del artista;\n",
    "- `'genre'`: género de la pista;\n",
    "- `'City'`: ciudad del usuario o la usuaria;\n",
    "- `'time'`: la hora exacta en la que se reprodujo la canción;\n",
    "- `'Day'`: día de la semana.\n",
    "\n",
    "Podemos ver tres problemas con el estilo en los encabezados de la tabla:\n",
    "1. Algunos encabezados están en mayúsculas, otros en minúsculas.\n",
    "2. Hay espacios en algunos encabezados.\n",
    "3. `Detecta el tercer problema por tu cuenta y descríbelo aquí` /La variable time es poco descriptiva. La variable userID tiene 2 palabras por lo que puede requerir un \"_\" como separador. \n",
    "\n",
    "\n"
   ]
  },
  {
   "cell_type": "markdown",
   "metadata": {
    "id": "MCB6-dXG_Zct"
   },
   "source": [
    "### Escribe observaciones de tu parte. Estas son algunas de las preguntas que pueden ser útiles: <a id='data_review_conclusions'></a>\n",
    "\n",
    "`1.   ¿Qué tipo de datos tenemos a nuestra disposición en las filas? ¿Y cómo podemos entender lo que almacenan las columnas?` Los tipos de datos que almacenan las filas son registros de cada vez que se escuchó una canción en específico por cada usuario. Lo que almacenan las columnas entendemos por los encabezados de cada columna. Esta debe ser lo suficientemene explicativa para saber de que se trata la información, o preguntar al dueño del dataset.\n",
    "\n",
    "`2.   ¿Hay suficientes datos para proporcionar respuestas a nuestra hipótesis o necesitamos más información?` Nunstros datos son suficientes para proporcionar respuestas a nuestra hipótesis, pero una variable más como el tiempo de reproducción de cada canción nos permitiría conocer más a fondo la actividad musical. \n",
    "\n",
    "`3.   ¿Notaste algún problema en los datos, como valores ausentes, duplicados o tipos de datos incorrectos?` En la info de nuestros datos se puede identificar que hay valores ausentes en las columnas track, artist, genre, para identificar duplicados se debe hacer un análisis de toda la tabla. Los tipos de datos con correctos para todas las variables. "
   ]
  },
  {
   "cell_type": "markdown",
   "metadata": {
    "id": "3eL__vcwViOi"
   },
   "source": [
    "[Volver a Contenidos](#back)"
   ]
  },
  {
   "cell_type": "markdown",
   "metadata": {
    "id": "SjYF6Ub9_Zct"
   },
   "source": [
    "## Etapa 2. Preprocesamiento de datos <a id='data_preprocessing'></a>\n",
    "\n",
    "El objetivo aquí es preparar los datos para que sean analizados.\n",
    "El primer paso es resolver cualquier problema con los encabezados. Luego podemos avanzar a los valores ausentes y duplicados. Empecemos.\n",
    "\n",
    "Corrige el formato en los encabezados de la tabla.\n"
   ]
  },
  {
   "cell_type": "markdown",
   "metadata": {
    "id": "dIaKXr29_Zct"
   },
   "source": [
    "### Estilo del encabezado <a id='header_style'></a>\n",
    "Muestra los encabezados de la tabla (los nombres de las columnas):"
   ]
  },
  {
   "cell_type": "code",
   "execution_count": 5,
   "metadata": {
    "id": "oKOTdF_Q_Zct"
   },
   "outputs": [
    {
     "data": {
      "text/plain": [
       "Index(['  userID', 'Track', 'artist', 'genre', '  City  ', 'time', 'Day'], dtype='object')"
      ]
     },
     "execution_count": 5,
     "metadata": {},
     "output_type": "execute_result"
    }
   ],
   "source": [
    "# Muestra los nombres de las columnas\n",
    "df.columns"
   ]
  },
  {
   "cell_type": "markdown",
   "metadata": {
    "id": "zj5534cv_Zct"
   },
   "source": [
    "Cambia los encabezados de la tabla de acuerdo con las reglas del buen estilo:\n",
    "* Todos los caracteres deben ser minúsculas.\n",
    "* Elimina los espacios.\n",
    "* Si el nombre tiene varias palabras, utiliza snake_case."
   ]
  },
  {
   "cell_type": "markdown",
   "metadata": {
    "id": "Xu0zkfe5zNJe"
   },
   "source": [
    "Anteriormente, aprendiste acerca de la forma automática de cambiar el nombre de las columnas. Vamos a aplicarla ahora. Utiliza el bucle for para iterar sobre los nombres de las columnas y poner todos los caracteres en minúsculas. Cuando hayas terminado, vuelve a mostrar los encabezados de la tabla:"
   ]
  },
  {
   "cell_type": "code",
   "execution_count": 6,
   "metadata": {
    "id": "6I_RwwMhzM4e"
   },
   "outputs": [
    {
     "name": "stdout",
     "output_type": "stream",
     "text": [
      "Index(['  userid', 'track', 'artist', 'genre', '  city  ', 'time', 'day'], dtype='object')\n"
     ]
    }
   ],
   "source": [
    "# Bucle en los encabezados poniendo todo en minúsculas\n",
    "new_names = []\n",
    "for old_name in df.columns: \n",
    "    name_lower = old_name.lower()\n",
    "    new_names.append (name_lower)\n",
    "df.columns = new_names\n",
    "print (df.columns)"
   ]
  },
  {
   "cell_type": "markdown",
   "metadata": {
    "id": "pweIRxjSzPYW"
   },
   "source": [
    "Ahora, utilizando el mismo método, elimina los espacios al principio y al final de los nombres de las columnas e imprime los nombres de las columnas nuevamente:"
   ]
  },
  {
   "cell_type": "code",
   "execution_count": 7,
   "metadata": {
    "id": "vVQXbFyJzSYl"
   },
   "outputs": [
    {
     "name": "stdout",
     "output_type": "stream",
     "text": [
      "Index(['userid', 'track', 'artist', 'genre', 'city', 'time', 'day'], dtype='object')\n"
     ]
    }
   ],
   "source": [
    "# Bucle en los encabezados eliminando los espacios\n",
    "new_names = []\n",
    "for old_name in df.columns: \n",
    "    name_strip = old_name.strip()\n",
    "    new_names.append (name_strip)\n",
    "df.columns = new_names\n",
    "print (df.columns)"
   ]
  },
  {
   "cell_type": "markdown",
   "metadata": {
    "id": "yCb8MW1JzURd"
   },
   "source": [
    "Necesitamos aplicar la regla de snake_case a la columna `userid`. Debe ser `user_id`. Cambia el nombre de esta columna y muestra los nombres de todas las columnas cuando hayas terminado."
   ]
  },
  {
   "cell_type": "code",
   "execution_count": 8,
   "metadata": {
    "id": "ISlFqs5y_Zct"
   },
   "outputs": [
    {
     "name": "stdout",
     "output_type": "stream",
     "text": [
      "Index(['user_id', 'track', 'artist', 'genre', 'city', 'time', 'day'], dtype='object')\n"
     ]
    }
   ],
   "source": [
    "# Cambiar el nombre de la columna \"userid\"\n",
    "new_name = {\"userid\" : \"user_id\"}\n",
    "df = df.rename (columns = new_name)\n",
    "print (df.columns)"
   ]
  },
  {
   "cell_type": "markdown",
   "metadata": {
    "id": "1dqbh00J_Zct"
   },
   "source": [
    "Comprueba el resultado. Muestra los encabezados una vez más:"
   ]
  },
  {
   "cell_type": "code",
   "execution_count": 9,
   "metadata": {
    "id": "d4NOAmTW_Zct"
   },
   "outputs": [
    {
     "name": "stdout",
     "output_type": "stream",
     "text": [
      "Index(['user_id', 'track', 'artist', 'genre', 'city', 'time', 'day'], dtype='object')\n"
     ]
    }
   ],
   "source": [
    "# Comprobar el resultado: la lista de encabezados\n",
    "print (df.columns)"
   ]
  },
  {
   "cell_type": "markdown",
   "metadata": {
    "id": "xYJk6ksJVpOl"
   },
   "source": [
    "[Volver a Contenidos](#back)"
   ]
  },
  {
   "cell_type": "markdown",
   "metadata": {
    "id": "5ISfbcfY_Zct"
   },
   "source": [
    "### Valores ausentes <a id='missing_values'></a>\n",
    " Primero, encuentra el número de valores ausentes en la tabla. Debes utilizar dos métodos en una secuencia para obtener el número de valores ausentes."
   ]
  },
  {
   "cell_type": "code",
   "execution_count": 10,
   "metadata": {
    "id": "RskX29qr_Zct"
   },
   "outputs": [
    {
     "data": {
      "text/plain": [
       "user_id       0\n",
       "track      1343\n",
       "artist     7567\n",
       "genre      1198\n",
       "city          0\n",
       "time          0\n",
       "day           0\n",
       "dtype: int64"
      ]
     },
     "execution_count": 10,
     "metadata": {},
     "output_type": "execute_result"
    }
   ],
   "source": [
    "# Calcular el número de valores ausentes\n",
    "df.isna().sum()"
   ]
  },
  {
   "cell_type": "markdown",
   "metadata": {
    "id": "qubhgnlO_Zct"
   },
   "source": [
    "No todos los valores ausentes afectan a la investigación. Por ejemplo, los valores ausentes en `track` y `artist` no son cruciales. Simplemente puedes reemplazarlos con valores predeterminados como el string `'unknown'` (desconocido).\n",
    "\n",
    "Pero los valores ausentes en `'genre'` pueden afectar la comparación entre las preferencias musicales de Springfield y Shelbyville. En la vida real, sería útil saber las razones por las cuales hay datos ausentes e intentar recuperarlos. Pero no tenemos esa oportunidad en este proyecto. Así que tendrás que:\n",
    "* rellenar estos valores ausentes con un valor predeterminado;\n",
    "* evaluar cuánto podrían afectar los valores ausentes a tus cómputos;"
   ]
  },
  {
   "cell_type": "markdown",
   "metadata": {
    "id": "fSv2laPA_Zct"
   },
   "source": [
    "Reemplazar los valores ausentes en las columnas `'track'`, `'artist'` y `'genre'` con el string `'unknown'`. Como mostramos anteriormente en las lecciones, la mejor forma de hacerlo es crear una lista que almacene los nombres de las columnas donde se necesita el reemplazo. Luego, utiliza esta lista e itera sobre las columnas donde se necesita el reemplazo haciendo el propio reemplazo."
   ]
  },
  {
   "cell_type": "code",
   "execution_count": 11,
   "metadata": {
    "id": "KplB5qWs_Zct"
   },
   "outputs": [],
   "source": [
    "# Bucle en los encabezados reemplazando los valores ausentes con 'unknown'\n",
    "replace = ['track', 'artist', 'genre']\n",
    "for non in replace:\n",
    "    df[non].fillna('unknown', inplace = True)"
   ]
  },
  {
   "cell_type": "markdown",
   "metadata": {
    "id": "Ilsm-MZo_Zct"
   },
   "source": [
    "Ahora comprueba el resultado para asegurarte de que después del reemplazo no haya valores ausentes en el conjunto de datos. Para hacer esto, cuenta los valores ausentes nuevamente."
   ]
  },
  {
   "cell_type": "code",
   "execution_count": 12,
   "metadata": {
    "id": "Tq4nYRX4_Zct"
   },
   "outputs": [
    {
     "data": {
      "text/plain": [
       "user_id    0\n",
       "track      0\n",
       "artist     0\n",
       "genre      0\n",
       "city       0\n",
       "time       0\n",
       "day        0\n",
       "dtype: int64"
      ]
     },
     "execution_count": 12,
     "metadata": {},
     "output_type": "execute_result"
    }
   ],
   "source": [
    "# Contar valores ausentes\n",
    "df.isna().sum()"
   ]
  },
  {
   "cell_type": "markdown",
   "metadata": {
    "id": "74ZIBmq9VrsK"
   },
   "source": [
    "[Volver a Contenidos](#back)"
   ]
  },
  {
   "cell_type": "markdown",
   "metadata": {
    "id": "BWKRtBJ3_Zct"
   },
   "source": [
    "### Duplicados <a id='duplicates'></a>\n",
    "Encuentra el número de duplicados explícitos en la tabla. Una vez más, debes aplicar dos métodos en una secuencia para obtener la cantidad de duplicados explícitos."
   ]
  },
  {
   "cell_type": "code",
   "execution_count": 13,
   "metadata": {
    "id": "36eES_S0_Zct"
   },
   "outputs": [
    {
     "data": {
      "text/plain": [
       "3826"
      ]
     },
     "execution_count": 13,
     "metadata": {},
     "output_type": "execute_result"
    }
   ],
   "source": [
    "# Contar duplicados explícitos\n",
    "df.duplicated().sum()"
   ]
  },
  {
   "cell_type": "markdown",
   "metadata": {
    "id": "Ot25h6XR_Zct"
   },
   "source": [
    "Ahora, elimina todos los duplicados. Para ello, llama al método que hace exactamente esto."
   ]
  },
  {
   "cell_type": "code",
   "execution_count": 14,
   "metadata": {
    "id": "exFHq6tt_Zct"
   },
   "outputs": [],
   "source": [
    "# Eliminar duplicados explícitos\n",
    "df.drop_duplicates(inplace = True)"
   ]
  },
  {
   "cell_type": "markdown",
   "metadata": {
    "id": "Im2YwBEG_Zct"
   },
   "source": [
    "Comprobemos ahora si eliminamos con éxito todos los duplicados. Cuenta los duplicados explícitos una vez más para asegurarte de haberlos eliminado todos:"
   ]
  },
  {
   "cell_type": "code",
   "execution_count": 15,
   "metadata": {
    "id": "-8PuNWQ0_Zct"
   },
   "outputs": [
    {
     "data": {
      "text/plain": [
       "0"
      ]
     },
     "execution_count": 15,
     "metadata": {},
     "output_type": "execute_result"
    }
   ],
   "source": [
    "# Comprobar de nuevo si hay duplicados\n",
    "df.duplicated().sum()\n"
   ]
  },
  {
   "cell_type": "markdown",
   "metadata": {
    "id": "QlFBsxAr_Zct"
   },
   "source": [
    "Ahora queremos deshacernos de los duplicados implícitos en la columna `genre`. Por ejemplo, el nombre de un género se puede escribir de varias formas. Dichos errores también pueden afectar al resultado."
   ]
  },
  {
   "cell_type": "markdown",
   "metadata": {
    "id": "eSjWwsOh_Zct"
   },
   "source": [
    "Para hacerlo, primero mostremos una lista de nombres de género únicos, ordenados en orden alfabético. Para ello:\n",
    "* Extrae la columna `genre` del DataFrame.\n",
    "* Llama al método que devolverá todos los valores únicos en la columna extraída.\n"
   ]
  },
  {
   "cell_type": "code",
   "execution_count": 16,
   "metadata": {
    "id": "JIUcqzZN_Zct"
   },
   "outputs": [
    {
     "data": {
      "text/plain": [
       "array(['acid', 'acoustic', 'action', 'adult', 'africa', 'afrikaans',\n",
       "       'alternative', 'ambient', 'americana', 'animated', 'anime',\n",
       "       'arabesk', 'arabic', 'arena', 'argentinetango', 'art', 'audiobook',\n",
       "       'avantgarde', 'axé', 'baile', 'balkan', 'beats', 'bigroom',\n",
       "       'black', 'bluegrass', 'blues', 'bollywood', 'bossa', 'brazilian',\n",
       "       'breakbeat', 'breaks', 'broadway', 'cantautori', 'cantopop',\n",
       "       'canzone', 'caribbean', 'caucasian', 'celtic', 'chamber',\n",
       "       'children', 'chill', 'chinese', 'choral', 'christian', 'christmas',\n",
       "       'classical', 'classicmetal', 'club', 'colombian', 'comedy',\n",
       "       'conjazz', 'contemporary', 'country', 'cuban', 'dance',\n",
       "       'dancehall', 'dancepop', 'dark', 'death', 'deep', 'deutschrock',\n",
       "       'deutschspr', 'dirty', 'disco', 'dnb', 'documentary', 'downbeat',\n",
       "       'downtempo', 'drum', 'dub', 'dubstep', 'eastern', 'easy',\n",
       "       'electronic', 'electropop', 'emo', 'entehno', 'epicmetal',\n",
       "       'estrada', 'ethnic', 'eurofolk', 'european', 'experimental',\n",
       "       'extrememetal', 'fado', 'film', 'fitness', 'flamenco', 'folk',\n",
       "       'folklore', 'folkmetal', 'folkrock', 'folktronica', 'forró',\n",
       "       'frankreich', 'französisch', 'french', 'funk', 'future', 'gangsta',\n",
       "       'garage', 'german', 'ghazal', 'gitarre', 'glitch', 'gospel',\n",
       "       'gothic', 'grime', 'grunge', 'gypsy', 'handsup', \"hard'n'heavy\",\n",
       "       'hardcore', 'hardstyle', 'hardtechno', 'hip', 'hip-hop', 'hiphop',\n",
       "       'historisch', 'holiday', 'hop', 'horror', 'house', 'idm',\n",
       "       'independent', 'indian', 'indie', 'indipop', 'industrial',\n",
       "       'inspirational', 'instrumental', 'international', 'irish', 'jam',\n",
       "       'japanese', 'jazz', 'jewish', 'jpop', 'jungle', 'k-pop',\n",
       "       'karadeniz', 'karaoke', 'kayokyoku', 'korean', 'laiko', 'latin',\n",
       "       'latino', 'leftfield', 'local', 'lounge', 'loungeelectronic',\n",
       "       'lovers', 'malaysian', 'mandopop', 'marschmusik', 'meditative',\n",
       "       'mediterranean', 'melodic', 'metal', 'metalcore', 'mexican',\n",
       "       'middle', 'minimal', 'miscellaneous', 'modern', 'mood', 'mpb',\n",
       "       'muslim', 'native', 'neoklassik', 'neue', 'new', 'newage',\n",
       "       'newwave', 'nu', 'nujazz', 'numetal', 'oceania', 'old', 'opera',\n",
       "       'orchestral', 'other', 'piano', 'pop', 'popelectronic',\n",
       "       'popeurodance', 'post', 'posthardcore', 'postrock', 'power',\n",
       "       'progmetal', 'progressive', 'psychedelic', 'punjabi', 'punk',\n",
       "       'quebecois', 'ragga', 'ram', 'rancheras', 'rap', 'rave', 'reggae',\n",
       "       'reggaeton', 'regional', 'relax', 'religious', 'retro', 'rhythm',\n",
       "       'rnb', 'rnr', 'rock', 'rockabilly', 'romance', 'roots', 'ruspop',\n",
       "       'rusrap', 'rusrock', 'salsa', 'samba', 'schlager', 'self',\n",
       "       'sertanejo', 'shoegazing', 'showtunes', 'singer', 'ska', 'slow',\n",
       "       'smooth', 'soul', 'soulful', 'sound', 'soundtrack', 'southern',\n",
       "       'specialty', 'speech', 'spiritual', 'sport', 'stonerrock', 'surf',\n",
       "       'swing', 'synthpop', 'sängerportrait', 'tango', 'tanzorchester',\n",
       "       'taraftar', 'tech', 'techno', 'thrash', 'top', 'traditional',\n",
       "       'tradjazz', 'trance', 'tribal', 'trip', 'triphop', 'tropical',\n",
       "       'türk', 'türkçe', 'unknown', 'urban', 'uzbek', 'variété', 'vi',\n",
       "       'videogame', 'vocal', 'western', 'world', 'worldbeat', 'ïîï'],\n",
       "      dtype=object)"
      ]
     },
     "execution_count": 16,
     "metadata": {},
     "output_type": "execute_result"
    }
   ],
   "source": [
    "# Inspeccionar los nombres de géneros únicos\n",
    "df['genre'].sort_values().unique()"
   ]
  },
  {
   "cell_type": "markdown",
   "metadata": {
    "id": "qej-Qmuo_Zct"
   },
   "source": [
    "Busca en la lista para encontrar duplicados implícitos del género `hiphop`. Estos pueden ser nombres escritos incorrectamente o nombres alternativos para el mismo género.\n",
    "\n",
    "Verás los siguientes duplicados implícitos:\n",
    "* `hip`\n",
    "* `hop`\n",
    "* `hip-hop`\n",
    "\n",
    "Para deshacerte de ellos, crea una función llamada `replace_wrong_genres()` con dos parámetros:\n",
    "* `wrong_genres=`: esta es una lista que contiene todos los valores que necesitas reemplazar.\n",
    "* `correct_genre=`: este es un string que vas a utilizar como reemplazo.\n",
    "\n",
    "Como resultado, la función debería corregir los nombres en la columna `'genre'` de la tabla `df`, es decir, remplazar cada valor de la lista `wrong_genres` por el valor en `correct_genre`.\n",
    "\n",
    "Dentro del cuerpo de la función, utiliza un bucle `'for'` para iterar sobre la lista de géneros incorrectos, extrae la columna `'genre'` y aplica el método `replace` para hacer correcciones."
   ]
  },
  {
   "cell_type": "code",
   "execution_count": 17,
   "metadata": {
    "id": "ErNDkmns_Zct"
   },
   "outputs": [],
   "source": [
    "# Función para reemplazar duplicados implícitos\n",
    "def replace_wrong_genres (wrong_genres, correct_genre): \n",
    "    for wrong_genre in wrong_genres:\n",
    "        df['genre'].replace(wrong_genre, correct_genre, inplace = True)\n",
    "    return df "
   ]
  },
  {
   "cell_type": "markdown",
   "metadata": {
    "id": "aDoBJxbA_Zct"
   },
   "source": [
    "Ahora, llama a `replace_wrong_genres()` y pásale tales argumentos para que retire los duplicados implícitos (`hip`, `hop` y `hip-hop`) y los reemplace por `hiphop`:"
   ]
  },
  {
   "cell_type": "code",
   "execution_count": 18,
   "metadata": {
    "id": "YN5i2hpmSo09"
   },
   "outputs": [],
   "source": [
    "# Eliminar duplicados implícitos\n",
    "wrong_genres = ['hip', 'hop', 'hip-hop']\n",
    "correct_genre = 'hiphop' \n",
    "df = replace_wrong_genres(wrong_genres, correct_genre)\n"
   ]
  },
  {
   "cell_type": "markdown",
   "metadata": {
    "id": "zQKF16_RG15m"
   },
   "source": [
    "Asegúrate de que los nombres duplicados han sido eliminados. Muestra la lista de valores únicos de la columna `'genre'` una vez más:"
   ]
  },
  {
   "cell_type": "code",
   "execution_count": 19,
   "metadata": {
    "id": "wvixALnFG15m"
   },
   "outputs": [
    {
     "data": {
      "text/plain": [
       "array(['acid', 'acoustic', 'action', 'adult', 'africa', 'afrikaans',\n",
       "       'alternative', 'ambient', 'americana', 'animated', 'anime',\n",
       "       'arabesk', 'arabic', 'arena', 'argentinetango', 'art', 'audiobook',\n",
       "       'avantgarde', 'axé', 'baile', 'balkan', 'beats', 'bigroom',\n",
       "       'black', 'bluegrass', 'blues', 'bollywood', 'bossa', 'brazilian',\n",
       "       'breakbeat', 'breaks', 'broadway', 'cantautori', 'cantopop',\n",
       "       'canzone', 'caribbean', 'caucasian', 'celtic', 'chamber',\n",
       "       'children', 'chill', 'chinese', 'choral', 'christian', 'christmas',\n",
       "       'classical', 'classicmetal', 'club', 'colombian', 'comedy',\n",
       "       'conjazz', 'contemporary', 'country', 'cuban', 'dance',\n",
       "       'dancehall', 'dancepop', 'dark', 'death', 'deep', 'deutschrock',\n",
       "       'deutschspr', 'dirty', 'disco', 'dnb', 'documentary', 'downbeat',\n",
       "       'downtempo', 'drum', 'dub', 'dubstep', 'eastern', 'easy',\n",
       "       'electronic', 'electropop', 'emo', 'entehno', 'epicmetal',\n",
       "       'estrada', 'ethnic', 'eurofolk', 'european', 'experimental',\n",
       "       'extrememetal', 'fado', 'film', 'fitness', 'flamenco', 'folk',\n",
       "       'folklore', 'folkmetal', 'folkrock', 'folktronica', 'forró',\n",
       "       'frankreich', 'französisch', 'french', 'funk', 'future', 'gangsta',\n",
       "       'garage', 'german', 'ghazal', 'gitarre', 'glitch', 'gospel',\n",
       "       'gothic', 'grime', 'grunge', 'gypsy', 'handsup', \"hard'n'heavy\",\n",
       "       'hardcore', 'hardstyle', 'hardtechno', 'hiphop', 'historisch',\n",
       "       'holiday', 'horror', 'house', 'idm', 'independent', 'indian',\n",
       "       'indie', 'indipop', 'industrial', 'inspirational', 'instrumental',\n",
       "       'international', 'irish', 'jam', 'japanese', 'jazz', 'jewish',\n",
       "       'jpop', 'jungle', 'k-pop', 'karadeniz', 'karaoke', 'kayokyoku',\n",
       "       'korean', 'laiko', 'latin', 'latino', 'leftfield', 'local',\n",
       "       'lounge', 'loungeelectronic', 'lovers', 'malaysian', 'mandopop',\n",
       "       'marschmusik', 'meditative', 'mediterranean', 'melodic', 'metal',\n",
       "       'metalcore', 'mexican', 'middle', 'minimal', 'miscellaneous',\n",
       "       'modern', 'mood', 'mpb', 'muslim', 'native', 'neoklassik', 'neue',\n",
       "       'new', 'newage', 'newwave', 'nu', 'nujazz', 'numetal', 'oceania',\n",
       "       'old', 'opera', 'orchestral', 'other', 'piano', 'pop',\n",
       "       'popelectronic', 'popeurodance', 'post', 'posthardcore',\n",
       "       'postrock', 'power', 'progmetal', 'progressive', 'psychedelic',\n",
       "       'punjabi', 'punk', 'quebecois', 'ragga', 'ram', 'rancheras', 'rap',\n",
       "       'rave', 'reggae', 'reggaeton', 'regional', 'relax', 'religious',\n",
       "       'retro', 'rhythm', 'rnb', 'rnr', 'rock', 'rockabilly', 'romance',\n",
       "       'roots', 'ruspop', 'rusrap', 'rusrock', 'salsa', 'samba',\n",
       "       'schlager', 'self', 'sertanejo', 'shoegazing', 'showtunes',\n",
       "       'singer', 'ska', 'slow', 'smooth', 'soul', 'soulful', 'sound',\n",
       "       'soundtrack', 'southern', 'specialty', 'speech', 'spiritual',\n",
       "       'sport', 'stonerrock', 'surf', 'swing', 'synthpop',\n",
       "       'sängerportrait', 'tango', 'tanzorchester', 'taraftar', 'tech',\n",
       "       'techno', 'thrash', 'top', 'traditional', 'tradjazz', 'trance',\n",
       "       'tribal', 'trip', 'triphop', 'tropical', 'türk', 'türkçe',\n",
       "       'unknown', 'urban', 'uzbek', 'variété', 'vi', 'videogame', 'vocal',\n",
       "       'western', 'world', 'worldbeat', 'ïîï'], dtype=object)"
      ]
     },
     "execution_count": 19,
     "metadata": {},
     "output_type": "execute_result"
    }
   ],
   "source": [
    "# Comprobación de duplicados implícitos\n",
    "df['genre'].sort_values().unique()"
   ]
  },
  {
   "cell_type": "markdown",
   "metadata": {
    "id": "ALgNbvF3VtPA"
   },
   "source": [
    "[Volver a Contenidos](#back)"
   ]
  },
  {
   "cell_type": "markdown",
   "metadata": {
    "id": "jz6a9-7HQUDd"
   },
   "source": [
    "### Tus observaciones <a id='data_preprocessing_conclusions'></a>\n",
    "\n",
    "`Describe brevemente lo que has notado al analizar duplicados, cómo abordaste sus eliminaciones y qué resultados obtuviste.` Se encontraron 3826 duplicados explícitos, los cuales con simples de abordar ya que solo se elimina todas las filas duplicadas. Con duplicados implicitos, toma más tiempo ya que hay que analizar todos tod generos que se tienen dentro de la lista buscando donde hay duplicados. Una vez encontrados se crea una función para poder modificar el nombre y que solo quede la palabra correctamente escrita como valor único. De esta manera se han eliminado todos los duplicados y el dataset se encuentra listo para análisis. "
   ]
  },
  {
   "cell_type": "markdown",
   "metadata": {
    "id": "eK1es74rVujj"
   },
   "source": [
    "[Volver a Contenidos](#back)"
   ]
  },
  {
   "cell_type": "markdown",
   "metadata": {
    "id": "WttZHXH0SqKk"
   },
   "source": [
    "## Etapa 3. Prueba de hipótesis <a id='hypothesis'></a>"
   ]
  },
  {
   "cell_type": "markdown",
   "metadata": {
    "id": "Im936VVi_Zcu"
   },
   "source": [
    "### Hipótesis: comparar el comportamiento del usuario o la usuaria en las dos ciudades <a id='activity'></a>"
   ]
  },
  {
   "cell_type": "markdown",
   "metadata": {
    "id": "nwt_MuaL_Zcu"
   },
   "source": [
    "La hipótesis afirma que existen diferencias en la forma en que los usuarios y las usuarias de Springfield y Shelbyville consumen música. Para comprobar esto, usa los datos de tres días de la semana: lunes, miércoles y viernes.\n",
    "\n",
    "* Agrupa a los usuarios y las usuarias por ciudad.\n",
    "* Compara el número de canciones que cada grupo reprodujo el lunes, el miércoles y el viernes.\n"
   ]
  },
  {
   "cell_type": "markdown",
   "metadata": {
    "id": "8Dw_YMmT_Zcu"
   },
   "source": [
    "Realiza cada cálculo por separado.\n",
    "\n",
    "El primer paso es evaluar la actividad del usuario en cada ciudad. Recuerda las etapas dividir-aplicar-combinar de las que hablamos anteriormente en la lección. Tu objetivo ahora es agrupar los datos por ciudad, aplicar el método apropiado para contar durante la etapa de aplicación y luego encontrar la cantidad de canciones reproducidas en cada grupo especificando la columna para obtener el recuento.\n",
    "\n",
    "A continuación se muestra un ejemplo de cómo debería verse el resultado final:\n",
    "`df.groupby(by='....')['column'].method()`Realiza cada cálculo por separado.\n",
    "\n",
    "Para evaluar la actividad de los usuarios y las usuarias en cada ciudad, agrupa los datos por ciudad y encuentra la cantidad de canciones reproducidas en cada grupo.\n",
    "\n"
   ]
  },
  {
   "cell_type": "code",
   "execution_count": 20,
   "metadata": {
    "id": "0_Qs96oh_Zcu"
   },
   "outputs": [
    {
     "data": {
      "text/plain": [
       "city\n",
       "Shelbyville    18512\n",
       "Springfield    42741\n",
       "Name: track, dtype: int64"
      ]
     },
     "execution_count": 20,
     "metadata": {},
     "output_type": "execute_result"
    }
   ],
   "source": [
    "# Contar las canciones reproducidas en cada ciudad\n",
    "df.groupby('city')['track'].count()"
   ]
  },
  {
   "cell_type": "markdown",
   "metadata": {
    "id": "t_Qx-3NewAnK"
   },
   "source": [
    "`Comenta tus observaciones aquí` Se puede observar que en Springfield se repoduce un 43% más de canciones que en Shelbyville. "
   ]
  },
  {
   "cell_type": "markdown",
   "metadata": {
    "id": "dzli3w8o_Zcu"
   },
   "source": [
    "Ahora agrupemos los datos por día de la semana y encontremos el número de canciones reproducidas el lunes, miércoles y viernes. Utiliza el mismo método que antes, pero ahora necesitamos una agrupación diferente.\n"
   ]
  },
  {
   "cell_type": "code",
   "execution_count": 21,
   "metadata": {
    "id": "uZMKjiJz_Zcu"
   },
   "outputs": [
    {
     "data": {
      "text/plain": [
       "day\n",
       "Friday       21840\n",
       "Monday       21354\n",
       "Wednesday    18059\n",
       "Name: track, dtype: int64"
      ]
     },
     "execution_count": 21,
     "metadata": {},
     "output_type": "execute_result"
    }
   ],
   "source": [
    "# Calcular las canciones reproducidas en cada uno de los tres días\n",
    "df.groupby('day')['track'].count()"
   ]
  },
  {
   "cell_type": "markdown",
   "metadata": {
    "id": "cC2tNrlL_Zcu"
   },
   "source": [
    "`Comenta tus observaciones aquí`. Se puede observar que el día que menos música se escucha es el día miercoles. Además que al inicio y al final de la semana laboral, se escuchan aproximadamente la misma cantidad de canciones."
   ]
  },
  {
   "cell_type": "markdown",
   "metadata": {
    "id": "POzs8bGa_Zcu"
   },
   "source": [
    "Ya sabes cómo contar entradas agrupándolas por ciudad o día. Ahora necesitas escribir una función que pueda contar entradas según ambos criterios simultáneamente.\n",
    "\n",
    "Crea la función `number_tracks()` para calcular el número de canciones reproducidas en un determinado día **y** ciudad. La función debe aceptar dos parámetros:\n",
    "\n",
    "- `day`: un día de la semana para filtrar. Por ejemplo, `'Monday'` (lunes).\n",
    "- `city`: una ciudad para filtrar. Por ejemplo, `'Springfield'`.\n",
    "\n",
    "Dentro de la función, aplicarás un filtrado consecutivo con indexación lógica.\n",
    "\n",
    "Primero filtra los datos por día y luego filtra la tabla resultante por ciudad.\n",
    "\n",
    "Después de filtrar los datos por dos criterios, cuenta el número de valores de la columna 'user_id' en la tabla resultante. Este recuento representa el número de entradas que estás buscando. Guarda el resultado en una nueva variable y devuélvelo desde la función."
   ]
  },
  {
   "cell_type": "code",
   "execution_count": 22,
   "metadata": {
    "id": "Nz3GdQB1_Zcu"
   },
   "outputs": [],
   "source": [
    "def number_tracks(day, city):# Declara la función number_tracks() con dos parámetros: day= y city=.\n",
    "    \n",
    "    # Almacena las filas del DataFrame donde el valor en la columna 'day' es igual al parámetro day=\n",
    "    day_filter = df[df['day'] == day]\n",
    "    \n",
    "    # Filtra las filas donde el valor en la columna 'city' es igual al parámetro city=\n",
    "    city_filter = day_filter[day_filter['city']== city]\n",
    "    \n",
    "    # Extrae la columna 'user_id' de la tabla filtrada y aplica el método count()\n",
    "    users= city_filter['user_id'].count()\n",
    "    \n",
    "    return users # Devolve el número de valores de la columna 'user_id'"
   ]
  },
  {
   "cell_type": "markdown",
   "metadata": {
    "id": "ytf7xFrFJQ2r"
   },
   "source": [
    "Llama a `number_tracks()` seis veces, cambiando los valores de los parámetros para que recuperes los datos de ambas ciudades para cada uno de los tres días."
   ]
  },
  {
   "cell_type": "code",
   "execution_count": 29,
   "metadata": {
    "id": "rJcRATNQ_Zcu"
   },
   "outputs": [
    {
     "name": "stdout",
     "output_type": "stream",
     "text": [
      "15740\n"
     ]
    }
   ],
   "source": [
    "# El número de canciones reproducidas en Springfield el lunes\n",
    "filter1 = number_tracks ('Monday', 'Springfield')\n",
    "print (filter1)"
   ]
  },
  {
   "cell_type": "code",
   "execution_count": 30,
   "metadata": {
    "id": "hq_ncZ5T_Zcu"
   },
   "outputs": [
    {
     "name": "stdout",
     "output_type": "stream",
     "text": [
      "5614\n"
     ]
    }
   ],
   "source": [
    "# El número de canciones reproducidas en Shelbyville el lunes\n",
    "filter2 = number_tracks ('Monday', 'Shelbyville')\n",
    "print (filter2)"
   ]
  },
  {
   "cell_type": "code",
   "execution_count": 33,
   "metadata": {
    "id": "_NTy2VPU_Zcu"
   },
   "outputs": [
    {
     "name": "stdout",
     "output_type": "stream",
     "text": [
      "11056\n"
     ]
    }
   ],
   "source": [
    "# El número de canciones reproducidas en Springfield el miércoles\n",
    "filter3 = number_tracks ('Wednesday', 'Springfield')\n",
    "print (filter3)"
   ]
  },
  {
   "cell_type": "code",
   "execution_count": 32,
   "metadata": {
    "id": "j2y3TAwo_Zcu"
   },
   "outputs": [
    {
     "name": "stdout",
     "output_type": "stream",
     "text": [
      "7003\n"
     ]
    }
   ],
   "source": [
    "# El número de canciones reproducidas en Shelbyville el miércoles\n",
    "filter4 = number_tracks ('Wednesday', 'Shelbyville')\n",
    "print (filter4)"
   ]
  },
  {
   "cell_type": "code",
   "execution_count": 34,
   "metadata": {
    "id": "vYDw5u_K_Zcu"
   },
   "outputs": [
    {
     "name": "stdout",
     "output_type": "stream",
     "text": [
      "15945\n"
     ]
    }
   ],
   "source": [
    "# El número de canciones reproducidas en Springfield el viernes\n",
    "filter5 = number_tracks ('Friday', 'Springfield')\n",
    "print (filter5)"
   ]
  },
  {
   "cell_type": "code",
   "execution_count": 35,
   "metadata": {
    "id": "8_yzFtW3_Zcu"
   },
   "outputs": [
    {
     "name": "stdout",
     "output_type": "stream",
     "text": [
      "5895\n"
     ]
    }
   ],
   "source": [
    "# El número de canciones reproducidas en Shelbyville el viernes\n",
    "filter6 = number_tracks ('Friday', 'Shelbyville')\n",
    "print (filter6)"
   ]
  },
  {
   "cell_type": "markdown",
   "metadata": {
    "id": "-EgPIHYu_Zcu"
   },
   "source": [
    "**Conclusiones**\n",
    "\n",
    "`Comenta si la hipótesis es correcta o se debe rechazar. Explica tu razonamiento.` Después de analisar los resultados obtenidos se acepta la hipótesis que menciona que \"La actividad de los usuarios y las usuarias difiere según el día de la semana y dependiendo de la ciudad.\" Como se puede ver en los filtros aplicados, en Springfield la activdad de los usuarios es mucho mayor que en Shelbyville para los 3 días de la semana analizados. Además cada día tiene direfente actividad, la mayor actividad por día para Springfield es lunes y viernes, miestras que el día de mayor actividad en Shelbyville es el día miércoles. "
   ]
  },
  {
   "cell_type": "markdown",
   "metadata": {
    "id": "p7nFQajCVw5B"
   },
   "source": [
    "[Volver a Contenidos](#back)"
   ]
  },
  {
   "cell_type": "markdown",
   "metadata": {
    "id": "ykKQ0N65_Zcv"
   },
   "source": [
    "# Conclusiones <a id='end'></a>"
   ]
  },
  {
   "cell_type": "markdown",
   "metadata": {
    "id": "tjUwbHb3_Zcv"
   },
   "source": [
    "`Resume aquí tus conclusiones sobre la hipótesis.` En resumen, después del análisis realizado para el dataset \"music project\" y como se mencionó anteriormente se acepta la hipótesis planteada en un inicio. En un primer análisis de reproducciones realizado individualmente por ciudad y por día de la semana se identifica que sí existe variación de reproducciones dependiendo del día, así como tambien de la ciudad, donde se identifica que la ciudad con más reproducciones es Springfield y los días y se identifica una variación para cada día. Este resultado se corrobora con más precisión al filtar en una misma tabla por día y ciudad obteniendo los resultados que la ciudad con mayor # de reproducciones es Springfield y sus reproducciones más altas son los día lunes y viernes, mientras que para Shelbyville el día miercoles es el de mayor reproducciones. \n",
    "\n",
    "Para analizar con más detalle, se pueden considerar variables como la población total de cada ciudad, así como las edades de las mismas y obtener datos que justifiquen la razón de esta hipótesis. \n"
   ]
  },
  {
   "cell_type": "markdown",
   "metadata": {
    "id": "azLHu64yOIp7"
   },
   "source": [
    "### Nota\n",
    "En proyectos de investigación reales, la prueba de hipótesis estadística es más precisa y cuantitativa. También ten en cuenta que no siempre se pueden sacar conclusiones sobre una ciudad entera a partir de datos de una sola fuente.\n",
    "\n",
    "Aprenderás más sobre la prueba de hipótesis en el sprint de análisis estadístico de datos."
   ]
  },
  {
   "cell_type": "markdown",
   "metadata": {
    "id": "Ju4AHDSgV1FE"
   },
   "source": [
    "[Volver a Contenidos](#back)"
   ]
  }
 ],
 "metadata": {
  "ExecuteTimeLog": [
   {
    "duration": 417,
    "start_time": "2024-07-07T22:38:04.557Z"
   },
   {
    "duration": 357,
    "start_time": "2024-07-07T22:38:58.981Z"
   },
   {
    "duration": 182,
    "start_time": "2024-07-07T22:39:12.200Z"
   },
   {
    "duration": 21,
    "start_time": "2024-07-07T22:39:22.443Z"
   },
   {
    "duration": 32,
    "start_time": "2024-07-07T22:39:58.049Z"
   },
   {
    "duration": 23,
    "start_time": "2024-07-07T22:54:12.085Z"
   },
   {
    "duration": 22,
    "start_time": "2024-07-07T22:54:51.480Z"
   },
   {
    "duration": 8,
    "start_time": "2024-07-07T22:56:08.016Z"
   },
   {
    "duration": 5,
    "start_time": "2024-07-07T23:19:34.304Z"
   },
   {
    "duration": 6,
    "start_time": "2024-07-07T23:20:27.214Z"
   },
   {
    "duration": 325,
    "start_time": "2024-07-08T03:12:52.621Z"
   },
   {
    "duration": 24,
    "start_time": "2024-07-08T03:14:44.976Z"
   },
   {
    "duration": 22,
    "start_time": "2024-07-08T03:15:15.009Z"
   },
   {
    "duration": 23,
    "start_time": "2024-07-08T03:15:27.576Z"
   },
   {
    "duration": 23,
    "start_time": "2024-07-08T03:16:00.545Z"
   },
   {
    "duration": 25,
    "start_time": "2024-07-08T03:21:21.338Z"
   },
   {
    "duration": 333,
    "start_time": "2024-07-08T03:21:59.877Z"
   },
   {
    "duration": 23,
    "start_time": "2024-07-08T03:22:16.358Z"
   },
   {
    "duration": 465,
    "start_time": "2024-07-08T03:22:23.071Z"
   },
   {
    "duration": 199,
    "start_time": "2024-07-08T03:22:27.827Z"
   },
   {
    "duration": 22,
    "start_time": "2024-07-08T03:22:31.308Z"
   },
   {
    "duration": 34,
    "start_time": "2024-07-08T03:22:35.405Z"
   },
   {
    "duration": 5,
    "start_time": "2024-07-08T03:22:52.921Z"
   },
   {
    "duration": 5,
    "start_time": "2024-07-08T03:22:58.138Z"
   },
   {
    "duration": 6,
    "start_time": "2024-07-08T03:23:03.156Z"
   },
   {
    "duration": 64,
    "start_time": "2024-07-08T03:23:07.113Z"
   },
   {
    "duration": 24,
    "start_time": "2024-07-08T03:23:30.720Z"
   },
   {
    "duration": 25,
    "start_time": "2024-07-08T03:24:03.470Z"
   },
   {
    "duration": 23,
    "start_time": "2024-07-08T03:25:14.800Z"
   },
   {
    "duration": 23,
    "start_time": "2024-07-08T03:25:37.268Z"
   },
   {
    "duration": 3,
    "start_time": "2024-07-08T03:26:11.801Z"
   },
   {
    "duration": 22,
    "start_time": "2024-07-08T03:26:15.382Z"
   },
   {
    "duration": 24,
    "start_time": "2024-07-08T03:26:26.830Z"
   },
   {
    "duration": 26,
    "start_time": "2024-07-08T03:27:45.941Z"
   },
   {
    "duration": 29,
    "start_time": "2024-07-08T03:27:59.149Z"
   },
   {
    "duration": 3,
    "start_time": "2024-07-08T03:28:09.845Z"
   },
   {
    "duration": 160,
    "start_time": "2024-07-08T03:28:12.319Z"
   },
   {
    "duration": 47,
    "start_time": "2024-07-08T03:28:18.856Z"
   },
   {
    "duration": 6,
    "start_time": "2024-07-08T03:28:24.329Z"
   },
   {
    "duration": 19,
    "start_time": "2024-07-08T03:28:29.711Z"
   },
   {
    "duration": 7,
    "start_time": "2024-07-08T03:28:33.105Z"
   },
   {
    "duration": 11,
    "start_time": "2024-07-08T03:28:42.410Z"
   },
   {
    "duration": 5,
    "start_time": "2024-07-08T03:28:58.356Z"
   },
   {
    "duration": 311,
    "start_time": "2024-07-09T01:56:08.015Z"
   },
   {
    "duration": 427,
    "start_time": "2024-07-09T01:56:20.946Z"
   },
   {
    "duration": 199,
    "start_time": "2024-07-09T01:56:21.377Z"
   },
   {
    "duration": 33,
    "start_time": "2024-07-09T01:56:21.580Z"
   },
   {
    "duration": 37,
    "start_time": "2024-07-09T01:56:21.616Z"
   },
   {
    "duration": 35,
    "start_time": "2024-07-09T01:56:21.657Z"
   },
   {
    "duration": 6,
    "start_time": "2024-07-09T01:56:21.695Z"
   },
   {
    "duration": 6,
    "start_time": "2024-07-09T01:56:21.705Z"
   },
   {
    "duration": 13,
    "start_time": "2024-07-09T01:56:21.715Z"
   },
   {
    "duration": 6,
    "start_time": "2024-07-09T01:56:21.731Z"
   },
   {
    "duration": 27,
    "start_time": "2024-07-09T01:56:21.792Z"
   },
   {
    "duration": 4,
    "start_time": "2024-07-09T01:56:21.822Z"
   },
   {
    "duration": 4,
    "start_time": "2024-07-09T01:56:21.829Z"
   },
   {
    "duration": 4,
    "start_time": "2024-07-09T01:56:21.836Z"
   },
   {
    "duration": 43,
    "start_time": "2024-07-09T01:56:21.847Z"
   },
   {
    "duration": 3,
    "start_time": "2024-07-09T01:56:21.894Z"
   },
   {
    "duration": 3,
    "start_time": "2024-07-09T01:56:21.901Z"
   },
   {
    "duration": 4,
    "start_time": "2024-07-09T01:56:21.907Z"
   },
   {
    "duration": 4,
    "start_time": "2024-07-09T01:56:21.915Z"
   },
   {
    "duration": 3,
    "start_time": "2024-07-09T01:56:21.922Z"
   },
   {
    "duration": 4,
    "start_time": "2024-07-09T01:56:21.929Z"
   },
   {
    "duration": 4,
    "start_time": "2024-07-09T01:56:21.991Z"
   },
   {
    "duration": 3,
    "start_time": "2024-07-09T01:56:21.998Z"
   },
   {
    "duration": 4,
    "start_time": "2024-07-09T01:56:22.004Z"
   },
   {
    "duration": 4,
    "start_time": "2024-07-09T01:56:22.012Z"
   },
   {
    "duration": 3,
    "start_time": "2024-07-09T01:56:22.020Z"
   },
   {
    "duration": 4,
    "start_time": "2024-07-09T01:56:22.027Z"
   },
   {
    "duration": 58,
    "start_time": "2024-07-09T01:56:22.034Z"
   },
   {
    "duration": 4,
    "start_time": "2024-07-09T01:56:22.096Z"
   },
   {
    "duration": 16,
    "start_time": "2024-07-09T02:00:26.315Z"
   },
   {
    "duration": 28,
    "start_time": "2024-07-09T02:00:43.980Z"
   },
   {
    "duration": 84,
    "start_time": "2024-07-09T02:01:50.812Z"
   },
   {
    "duration": 102,
    "start_time": "2024-07-09T02:03:33.210Z"
   },
   {
    "duration": 77,
    "start_time": "2024-07-09T02:03:35.657Z"
   },
   {
    "duration": 13,
    "start_time": "2024-07-09T02:05:23.776Z"
   },
   {
    "duration": 350,
    "start_time": "2024-07-09T02:09:31.265Z"
   },
   {
    "duration": 25,
    "start_time": "2024-07-09T02:10:11.569Z"
   },
   {
    "duration": 52,
    "start_time": "2024-07-09T02:10:46.249Z"
   },
   {
    "duration": 4,
    "start_time": "2024-07-09T02:25:12.937Z"
   },
   {
    "duration": 27,
    "start_time": "2024-07-09T02:25:15.662Z"
   },
   {
    "duration": 40,
    "start_time": "2024-07-09T02:25:36.803Z"
   },
   {
    "duration": 36,
    "start_time": "2024-07-09T02:27:02.377Z"
   },
   {
    "duration": 50,
    "start_time": "2024-07-09T02:27:26.242Z"
   },
   {
    "duration": 4,
    "start_time": "2024-07-09T02:28:54.500Z"
   },
   {
    "duration": 24,
    "start_time": "2024-07-09T02:28:59.668Z"
   },
   {
    "duration": 4,
    "start_time": "2024-07-09T02:29:11.171Z"
   },
   {
    "duration": 21,
    "start_time": "2024-07-09T02:29:13.553Z"
   },
   {
    "duration": 5,
    "start_time": "2024-07-09T02:29:26.000Z"
   },
   {
    "duration": 22,
    "start_time": "2024-07-09T02:29:36.352Z"
   },
   {
    "duration": 430,
    "start_time": "2024-07-09T02:29:49.043Z"
   },
   {
    "duration": 166,
    "start_time": "2024-07-09T02:29:49.476Z"
   },
   {
    "duration": 22,
    "start_time": "2024-07-09T02:29:49.645Z"
   },
   {
    "duration": 49,
    "start_time": "2024-07-09T02:29:49.671Z"
   },
   {
    "duration": 6,
    "start_time": "2024-07-09T02:29:49.723Z"
   },
   {
    "duration": 6,
    "start_time": "2024-07-09T02:29:49.733Z"
   },
   {
    "duration": 6,
    "start_time": "2024-07-09T02:29:49.743Z"
   },
   {
    "duration": 10,
    "start_time": "2024-07-09T02:29:49.792Z"
   },
   {
    "duration": 5,
    "start_time": "2024-07-09T02:29:49.805Z"
   },
   {
    "duration": 28,
    "start_time": "2024-07-09T02:29:49.818Z"
   },
   {
    "duration": 53,
    "start_time": "2024-07-09T02:29:49.849Z"
   },
   {
    "duration": 26,
    "start_time": "2024-07-09T02:29:49.905Z"
   },
   {
    "duration": 111,
    "start_time": "2024-07-09T02:29:49.934Z"
   },
   {
    "duration": 91,
    "start_time": "2024-07-09T02:29:50.048Z"
   },
   {
    "duration": 84,
    "start_time": "2024-07-09T02:29:50.141Z"
   },
   {
    "duration": 65,
    "start_time": "2024-07-09T02:29:50.228Z"
   },
   {
    "duration": 6,
    "start_time": "2024-07-09T02:29:50.296Z"
   },
   {
    "duration": 363,
    "start_time": "2024-07-09T02:29:50.305Z"
   },
   {
    "duration": 0,
    "start_time": "2024-07-09T02:29:50.672Z"
   },
   {
    "duration": 0,
    "start_time": "2024-07-09T02:29:50.674Z"
   },
   {
    "duration": 0,
    "start_time": "2024-07-09T02:29:50.677Z"
   },
   {
    "duration": 0,
    "start_time": "2024-07-09T02:29:50.692Z"
   },
   {
    "duration": 0,
    "start_time": "2024-07-09T02:29:50.695Z"
   },
   {
    "duration": 0,
    "start_time": "2024-07-09T02:29:50.697Z"
   },
   {
    "duration": 0,
    "start_time": "2024-07-09T02:29:50.699Z"
   },
   {
    "duration": 0,
    "start_time": "2024-07-09T02:29:50.702Z"
   },
   {
    "duration": 0,
    "start_time": "2024-07-09T02:29:50.705Z"
   },
   {
    "duration": 0,
    "start_time": "2024-07-09T02:29:50.707Z"
   },
   {
    "duration": 5,
    "start_time": "2024-07-09T02:30:30.115Z"
   },
   {
    "duration": 24,
    "start_time": "2024-07-09T02:30:31.706Z"
   },
   {
    "duration": 43,
    "start_time": "2024-07-09T02:30:36.883Z"
   },
   {
    "duration": 6,
    "start_time": "2024-07-09T02:32:46.259Z"
   },
   {
    "duration": 34,
    "start_time": "2024-07-09T02:32:56.240Z"
   },
   {
    "duration": 4,
    "start_time": "2024-07-09T02:35:22.660Z"
   },
   {
    "duration": 33,
    "start_time": "2024-07-09T02:35:24.671Z"
   },
   {
    "duration": 34,
    "start_time": "2024-07-09T02:37:34.621Z"
   },
   {
    "duration": 4,
    "start_time": "2024-07-09T02:37:38.416Z"
   },
   {
    "duration": 37,
    "start_time": "2024-07-09T02:37:40.823Z"
   },
   {
    "duration": 37,
    "start_time": "2024-07-09T02:39:34.881Z"
   },
   {
    "duration": 40,
    "start_time": "2024-07-09T02:40:12.174Z"
   },
   {
    "duration": 10,
    "start_time": "2024-07-09T14:03:40.077Z"
   },
   {
    "duration": 322,
    "start_time": "2024-07-09T14:03:42.780Z"
   },
   {
    "duration": 441,
    "start_time": "2024-07-09T14:03:53.289Z"
   },
   {
    "duration": 183,
    "start_time": "2024-07-09T14:03:53.734Z"
   },
   {
    "duration": 21,
    "start_time": "2024-07-09T14:03:53.920Z"
   },
   {
    "duration": 33,
    "start_time": "2024-07-09T14:03:53.945Z"
   },
   {
    "duration": 7,
    "start_time": "2024-07-09T14:03:53.981Z"
   },
   {
    "duration": 43,
    "start_time": "2024-07-09T14:03:53.991Z"
   },
   {
    "duration": 7,
    "start_time": "2024-07-09T14:03:54.036Z"
   },
   {
    "duration": 15,
    "start_time": "2024-07-09T14:03:54.046Z"
   },
   {
    "duration": 4,
    "start_time": "2024-07-09T14:03:54.065Z"
   },
   {
    "duration": 62,
    "start_time": "2024-07-09T14:03:54.075Z"
   },
   {
    "duration": 16,
    "start_time": "2024-07-09T14:03:54.141Z"
   },
   {
    "duration": 28,
    "start_time": "2024-07-09T14:03:54.160Z"
   },
   {
    "duration": 106,
    "start_time": "2024-07-09T14:03:54.191Z"
   },
   {
    "duration": 99,
    "start_time": "2024-07-09T14:03:54.300Z"
   },
   {
    "duration": 86,
    "start_time": "2024-07-09T14:03:54.402Z"
   },
   {
    "duration": 67,
    "start_time": "2024-07-09T14:03:54.491Z"
   },
   {
    "duration": 4,
    "start_time": "2024-07-09T14:03:54.561Z"
   },
   {
    "duration": 193,
    "start_time": "2024-07-09T14:03:54.568Z"
   },
   {
    "duration": 0,
    "start_time": "2024-07-09T14:03:54.764Z"
   },
   {
    "duration": 0,
    "start_time": "2024-07-09T14:03:54.766Z"
   },
   {
    "duration": 0,
    "start_time": "2024-07-09T14:03:54.768Z"
   },
   {
    "duration": 0,
    "start_time": "2024-07-09T14:03:54.770Z"
   },
   {
    "duration": 0,
    "start_time": "2024-07-09T14:03:54.772Z"
   },
   {
    "duration": 0,
    "start_time": "2024-07-09T14:03:54.774Z"
   },
   {
    "duration": 0,
    "start_time": "2024-07-09T14:03:54.777Z"
   },
   {
    "duration": 0,
    "start_time": "2024-07-09T14:03:54.779Z"
   },
   {
    "duration": 0,
    "start_time": "2024-07-09T14:03:54.782Z"
   },
   {
    "duration": 0,
    "start_time": "2024-07-09T14:03:54.784Z"
   },
   {
    "duration": 7,
    "start_time": "2024-07-09T14:12:15.987Z"
   },
   {
    "duration": 33,
    "start_time": "2024-07-09T14:12:17.616Z"
   },
   {
    "duration": 225,
    "start_time": "2024-07-09T14:12:22.498Z"
   },
   {
    "duration": 23,
    "start_time": "2024-07-09T14:14:29.214Z"
   },
   {
    "duration": 10,
    "start_time": "2024-07-09T14:15:33.138Z"
   },
   {
    "duration": 52,
    "start_time": "2024-07-09T14:18:14.551Z"
   },
   {
    "duration": 16,
    "start_time": "2024-07-09T14:40:42.518Z"
   },
   {
    "duration": 15,
    "start_time": "2024-07-09T14:43:44.741Z"
   },
   {
    "duration": 5,
    "start_time": "2024-07-09T15:05:50.917Z"
   },
   {
    "duration": 5,
    "start_time": "2024-07-09T15:07:18.172Z"
   },
   {
    "duration": 18,
    "start_time": "2024-07-09T15:10:49.231Z"
   },
   {
    "duration": 34,
    "start_time": "2024-07-09T15:10:51.679Z"
   },
   {
    "duration": 30,
    "start_time": "2024-07-09T15:11:16.353Z"
   },
   {
    "duration": 5,
    "start_time": "2024-07-09T15:11:34.966Z"
   },
   {
    "duration": 31,
    "start_time": "2024-07-09T15:11:36.964Z"
   },
   {
    "duration": 5,
    "start_time": "2024-07-09T15:14:17.601Z"
   },
   {
    "duration": 6,
    "start_time": "2024-07-09T15:14:19.005Z"
   },
   {
    "duration": 5,
    "start_time": "2024-07-09T15:14:26.147Z"
   },
   {
    "duration": 33,
    "start_time": "2024-07-09T15:14:33.298Z"
   },
   {
    "duration": 5,
    "start_time": "2024-07-09T15:19:09.325Z"
   },
   {
    "duration": 36,
    "start_time": "2024-07-09T15:19:13.558Z"
   },
   {
    "duration": 4,
    "start_time": "2024-07-09T15:20:03.068Z"
   },
   {
    "duration": 33,
    "start_time": "2024-07-09T15:21:13.624Z"
   },
   {
    "duration": 30,
    "start_time": "2024-07-09T15:21:17.625Z"
   },
   {
    "duration": 31,
    "start_time": "2024-07-09T15:24:50.227Z"
   },
   {
    "duration": 5,
    "start_time": "2024-07-09T15:26:41.634Z"
   },
   {
    "duration": 34,
    "start_time": "2024-07-09T15:26:44.014Z"
   },
   {
    "duration": 37,
    "start_time": "2024-07-09T15:26:46.516Z"
   },
   {
    "duration": 5,
    "start_time": "2024-07-09T15:31:44.533Z"
   },
   {
    "duration": 37,
    "start_time": "2024-07-09T15:31:46.007Z"
   },
   {
    "duration": 463,
    "start_time": "2024-07-09T15:34:00.242Z"
   },
   {
    "duration": 161,
    "start_time": "2024-07-09T15:34:00.709Z"
   },
   {
    "duration": 21,
    "start_time": "2024-07-09T15:34:00.872Z"
   },
   {
    "duration": 50,
    "start_time": "2024-07-09T15:34:00.897Z"
   },
   {
    "duration": 5,
    "start_time": "2024-07-09T15:34:00.950Z"
   },
   {
    "duration": 7,
    "start_time": "2024-07-09T15:34:00.959Z"
   },
   {
    "duration": 6,
    "start_time": "2024-07-09T15:34:00.968Z"
   },
   {
    "duration": 55,
    "start_time": "2024-07-09T15:34:00.978Z"
   },
   {
    "duration": 5,
    "start_time": "2024-07-09T15:34:01.036Z"
   },
   {
    "duration": 26,
    "start_time": "2024-07-09T15:34:01.048Z"
   },
   {
    "duration": 16,
    "start_time": "2024-07-09T15:34:01.077Z"
   },
   {
    "duration": 28,
    "start_time": "2024-07-09T15:34:01.131Z"
   },
   {
    "duration": 95,
    "start_time": "2024-07-09T15:34:01.162Z"
   },
   {
    "duration": 93,
    "start_time": "2024-07-09T15:34:01.259Z"
   },
   {
    "duration": 81,
    "start_time": "2024-07-09T15:34:01.355Z"
   },
   {
    "duration": 55,
    "start_time": "2024-07-09T15:34:01.439Z"
   },
   {
    "duration": 5,
    "start_time": "2024-07-09T15:34:01.497Z"
   },
   {
    "duration": 36,
    "start_time": "2024-07-09T15:34:01.504Z"
   },
   {
    "duration": 53,
    "start_time": "2024-07-09T15:34:01.543Z"
   },
   {
    "duration": 39,
    "start_time": "2024-07-09T15:34:01.599Z"
   },
   {
    "duration": 17,
    "start_time": "2024-07-09T15:34:01.641Z"
   },
   {
    "duration": 6,
    "start_time": "2024-07-09T15:34:01.661Z"
   },
   {
    "duration": 60,
    "start_time": "2024-07-09T15:34:01.671Z"
   },
   {
    "duration": 8,
    "start_time": "2024-07-09T15:34:01.734Z"
   },
   {
    "duration": 3,
    "start_time": "2024-07-09T15:34:01.748Z"
   },
   {
    "duration": 5,
    "start_time": "2024-07-09T15:34:01.755Z"
   },
   {
    "duration": 3,
    "start_time": "2024-07-09T15:34:01.764Z"
   },
   {
    "duration": 5,
    "start_time": "2024-07-09T15:34:01.776Z"
   },
   {
    "duration": 22,
    "start_time": "2024-07-09T15:34:28.900Z"
   },
   {
    "duration": 20,
    "start_time": "2024-07-09T15:34:52.351Z"
   },
   {
    "duration": 20,
    "start_time": "2024-07-09T15:35:36.718Z"
   },
   {
    "duration": 18,
    "start_time": "2024-07-09T15:36:12.887Z"
   },
   {
    "duration": 19,
    "start_time": "2024-07-09T15:36:39.758Z"
   },
   {
    "duration": 20,
    "start_time": "2024-07-09T15:37:17.058Z"
   },
   {
    "duration": 19,
    "start_time": "2024-07-09T15:37:37.738Z"
   }
  ],
  "colab": {
   "collapsed_sections": [
    "E0vqbgi9ay0H",
    "VUC88oWjTJw2"
   ],
   "provenance": []
  },
  "kernelspec": {
   "display_name": "Python 3 (ipykernel)",
   "language": "python",
   "name": "python3"
  },
  "language_info": {
   "codemirror_mode": {
    "name": "ipython",
    "version": 3
   },
   "file_extension": ".py",
   "mimetype": "text/x-python",
   "name": "python",
   "nbconvert_exporter": "python",
   "pygments_lexer": "ipython3",
   "version": "3.9.19"
  },
  "toc": {
   "base_numbering": 1,
   "nav_menu": {},
   "number_sections": true,
   "sideBar": true,
   "skip_h1_title": true,
   "title_cell": "Table of Contents",
   "title_sidebar": "Contents",
   "toc_cell": false,
   "toc_position": {},
   "toc_section_display": true,
   "toc_window_display": false
  }
 },
 "nbformat": 4,
 "nbformat_minor": 1
}
